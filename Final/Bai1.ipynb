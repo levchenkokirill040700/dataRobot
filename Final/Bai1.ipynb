{
  "nbformat": 4,
  "nbformat_minor": 0,
  "metadata": {
    "colab": {
      "name": "Bai1",
      "provenance": [],
      "collapsed_sections": []
    },
    "kernelspec": {
      "name": "python3",
      "display_name": "Python 3"
    },
    "language_info": {
      "name": "python"
    }
  },
  "cells": [
    {
      "cell_type": "code",
      "execution_count": null,
      "metadata": {
        "colab": {
          "base_uri": "https://localhost:8080/"
        },
        "id": "j6VlYU7xY2jf",
        "outputId": "cfd38434-46a7-4060-e9b5-c12f514e42bb"
      },
      "outputs": [
        {
          "output_type": "stream",
          "name": "stdout",
          "text": [
            "Requirement already satisfied: pyspark in /usr/local/lib/python3.7/dist-packages (3.2.0)\n",
            "Requirement already satisfied: py4j==0.10.9.2 in /usr/local/lib/python3.7/dist-packages (from pyspark) (0.10.9.2)\n"
          ]
        }
      ],
      "source": [
        "!pip install pyspark"
      ]
    },
    {
      "cell_type": "code",
      "source": [
        "import pyspark\n",
        "from pyspark import SparkConf, SparkContext\n",
        "import collections\n",
        "\n",
        "conf = SparkConf().setMaster(\"local\").setAppName(\"count\")\n",
        "sc = SparkContext.getOrCreate(conf=conf)"
      ],
      "metadata": {
        "id": "IC0UYSldY5R7"
      },
      "execution_count": null,
      "outputs": []
    },
    {
      "cell_type": "code",
      "source": [
        "#Connect tới drive\n",
        "from google.colab import drive\n",
        "drive.mount('/content/drive')"
      ],
      "metadata": {
        "colab": {
          "base_uri": "https://localhost:8080/"
        },
        "id": "er75bFd8Y688",
        "outputId": "ffe0c233-5abd-48f3-b5cd-5c5abb89ce21"
      },
      "execution_count": null,
      "outputs": [
        {
          "output_type": "stream",
          "name": "stdout",
          "text": [
            "Mounted at /content/drive\n"
          ]
        }
      ]
    },
    {
      "cell_type": "code",
      "source": [
        "from pyspark.sql import SparkSession\n",
        "import pyspark.sql.functions as F\n",
        "import pyspark.sql.types as T\n",
        "\n",
        "spark = SparkSession.builder.getOrCreate()"
      ],
      "metadata": {
        "id": "EYHPaxpzY8eg"
      },
      "execution_count": null,
      "outputs": []
    },
    {
      "cell_type": "markdown",
      "source": [
        "Ý tưởng Spark Streaming : phân tích là kiểm tra các dữ liệu về giao dịch được thực hiện trong một ngân hàng có phải là giao dịch gian lận hay không.\n",
        "\n",
        "Ý tưởng thuật toán: thay vì load lại toàn bộ data về lịch sử giao dịch thì sẽ chia thành các luồng dữ liệu riêng biệt, xử lý chúng và cuối cùng cho ra kết quả"
      ],
      "metadata": {
        "id": "rcFlvK6lu8L-"
      }
    },
    {
      "cell_type": "markdown",
      "source": [
        "# Data lấy từ kaggle\n",
        "https://www.kaggle.com/arjunjoshua/predicting-fraud-in-financial-payment-services/data"
      ],
      "metadata": {
        "id": "YunC83EDw6Jm"
      }
    },
    {
      "cell_type": "code",
      "source": [
        "df = spark.read.csv(\"drive/My Drive/Colab Notebooks/payment_data.csv\", header=True, inferSchema=True)"
      ],
      "metadata": {
        "id": "ZxW4V31zZAVU"
      },
      "execution_count": null,
      "outputs": []
    },
    {
      "cell_type": "code",
      "source": [
        "df.columns"
      ],
      "metadata": {
        "colab": {
          "base_uri": "https://localhost:8080/"
        },
        "id": "pkd38YCcZqw5",
        "outputId": "416a56ee-629e-45cf-8d95-af06f0c96295"
      },
      "execution_count": null,
      "outputs": [
        {
          "output_type": "execute_result",
          "data": {
            "text/plain": [
              "['step',\n",
              " 'type',\n",
              " 'amount',\n",
              " 'nameOrig',\n",
              " 'oldbalanceOrg',\n",
              " 'newbalanceOrig',\n",
              " 'nameDest',\n",
              " 'oldbalanceDest',\n",
              " 'newbalanceDest',\n",
              " 'isFraud',\n",
              " 'isFlaggedFraud']"
            ]
          },
          "metadata": {},
          "execution_count": 11
        }
      ]
    },
    {
      "cell_type": "code",
      "source": [
        "# Loại bỏ 2 cột cuối\n",
        "df = df.drop(\"isFraud\", \"isFlaggedFraud\")"
      ],
      "metadata": {
        "id": "L8nOOXV4Zhl3"
      },
      "execution_count": null,
      "outputs": []
    },
    {
      "cell_type": "code",
      "source": [
        "df.show(3)"
      ],
      "metadata": {
        "colab": {
          "base_uri": "https://localhost:8080/"
        },
        "id": "u6up3g1kZmh7",
        "outputId": "0a753f93-470a-484b-e555-a28b6dac4979"
      },
      "execution_count": null,
      "outputs": [
        {
          "output_type": "stream",
          "name": "stdout",
          "text": [
            "+----+--------+-------+-----------+-------------+--------------+-----------+--------------+--------------+\n",
            "|step|    type| amount|   nameOrig|oldbalanceOrg|newbalanceOrig|   nameDest|oldbalanceDest|newbalanceDest|\n",
            "+----+--------+-------+-----------+-------------+--------------+-----------+--------------+--------------+\n",
            "|   1| PAYMENT|9839.64|C1231006815|     170136.0|     160296.36|M1979787155|           0.0|           0.0|\n",
            "|   1| PAYMENT|1864.28|C1666544295|      21249.0|      19384.72|M2044282225|           0.0|           0.0|\n",
            "|   1|TRANSFER|  181.0|C1305486145|        181.0|           0.0| C553264065|           0.0|           0.0|\n",
            "+----+--------+-------+-----------+-------------+--------------+-----------+--------------+--------------+\n",
            "only showing top 3 rows\n",
            "\n"
          ]
        }
      ]
    },
    {
      "cell_type": "code",
      "source": [
        "df.groupBy(\"step\").count().show(3)"
      ],
      "metadata": {
        "colab": {
          "base_uri": "https://localhost:8080/"
        },
        "id": "9nRkO0nbZDL-",
        "outputId": "76eb5266-ad3d-4ed3-ffa8-7012c05c7b65"
      },
      "execution_count": null,
      "outputs": [
        {
          "output_type": "stream",
          "name": "stdout",
          "text": [
            "+----+-----+\n",
            "|step|count|\n",
            "+----+-----+\n",
            "| 148|   12|\n",
            "|  31|   12|\n",
            "|  85|   14|\n",
            "+----+-----+\n",
            "only showing top 3 rows\n",
            "\n"
          ]
        }
      ]
    },
    {
      "cell_type": "markdown",
      "source": [
        "-------------------------------------------------------------------------------"
      ],
      "metadata": {
        "id": "EzZs5q_Ptdic"
      }
    },
    {
      "cell_type": "markdown",
      "source": [
        "Select mỗi Step, mỗi tầng dữ liệu giao dịch sẽ tương ứng với mỗi Step, thực hiện lưu trữ datafram vào từng file.csv riêng biệt tương ứng trong drive/My Drive/Colab Notebooks/payment_data (cứ mỗi Step là sẽ xuất ra một file.csv)"
      ],
      "metadata": {
        "id": "YM8ySoqcthBN"
      }
    },
    {
      "cell_type": "code",
      "source": [
        "%%time\n",
        "steps = df.select(\"step\").distinct().collect()\n",
        "for step in steps[:]:\n",
        "    _df = df.where(f\"step = {step[0]}\")\n",
        "    _df.coalesce(1).write.mode(\"append\").option(\"header\", \"true\").csv(\"drive/My Drive/Colab Notebooks/payment_data\")"
      ],
      "metadata": {
        "colab": {
          "base_uri": "https://localhost:8080/"
        },
        "id": "3pHqzAIJZErg",
        "outputId": "004e8dc1-e3a7-4821-881a-2ba812ac120a"
      },
      "execution_count": null,
      "outputs": [
        {
          "output_type": "stream",
          "name": "stdout",
          "text": [
            "CPU times: user 43.3 s, sys: 4.45 s, total: 47.8 s\n",
            "Wall time: 2h 23min 54s\n"
          ]
        }
      ]
    },
    {
      "cell_type": "markdown",
      "source": [
        "-------------------------------------------------------------------------------------------------"
      ],
      "metadata": {
        "id": "fXXI0skluJwl"
      }
    },
    {
      "cell_type": "markdown",
      "source": [
        "Sau khi xuất được các file dữ liệu giao dịch theo từng Step, chọn một file bất kì "
      ],
      "metadata": {
        "id": "VkdLmEDMuP7q"
      }
    },
    {
      "cell_type": "code",
      "source": [
        "part = spark.read.csv(\n",
        "    \"drive/My Drive/Colab Notebooks/payment_data/part-00000-0a7b6e13-1b71-4dc2-9162-ac161c018b5a-c000.csv\",\n",
        "    header=True,\n",
        "    inferSchema=True,\n",
        ")"
      ],
      "metadata": {
        "id": "f6LVMic7ORYU"
      },
      "execution_count": null,
      "outputs": []
    },
    {
      "cell_type": "code",
      "source": [
        "part.groupBy(\"step\").count().show()"
      ],
      "metadata": {
        "colab": {
          "base_uri": "https://localhost:8080/"
        },
        "id": "3ESIp__FPV89",
        "outputId": "2e378a84-398e-4e56-8859-d51efebf16e0"
      },
      "execution_count": null,
      "outputs": [
        {
          "output_type": "stream",
          "name": "stdout",
          "text": [
            "+----+-----+\n",
            "|step|count|\n",
            "+----+-----+\n",
            "| 123|   52|\n",
            "+----+-----+\n",
            "\n"
          ]
        }
      ]
    },
    {
      "cell_type": "code",
      "source": [
        "dataSchema = part.schema"
      ],
      "metadata": {
        "id": "EK33YOpQPWB-"
      },
      "execution_count": null,
      "outputs": []
    },
    {
      "cell_type": "code",
      "source": [
        "dataSchema"
      ],
      "metadata": {
        "colab": {
          "base_uri": "https://localhost:8080/"
        },
        "id": "ZSqlF32kPb-8",
        "outputId": "37b3d250-757f-4d3c-9776-8fa62a232d11"
      },
      "execution_count": null,
      "outputs": [
        {
          "output_type": "execute_result",
          "data": {
            "text/plain": [
              "StructType(List(StructField(step,IntegerType,true),StructField(type,StringType,true),StructField(amount,DoubleType,true),StructField(nameOrig,StringType,true),StructField(oldbalanceOrg,DoubleType,true),StructField(newbalanceOrig,DoubleType,true),StructField(nameDest,StringType,true),StructField(oldbalanceDest,DoubleType,true),StructField(newbalanceDest,DoubleType,true)))"
            ]
          },
          "metadata": {},
          "execution_count": 19
        }
      ]
    },
    {
      "cell_type": "markdown",
      "source": [
        "maxFilesPerTrigger cho phép chúng ta kiểm soát tốc độ Spark sẽ đọc tất cả các file trong thư mục \"payment_data\". Trong trường hợp này, chúng ta sẽ giới hạn lưu lượng của luồng ở một tệp cho mỗi việc kích hoạt."
      ],
      "metadata": {
        "id": "3dPPZ7Tly1Xk"
      }
    },
    {
      "cell_type": "code",
      "source": [
        "streaming = (\n",
        "    spark.readStream.schema(dataSchema)\n",
        "    .option(\"maxFilesPerTrigger\", 1)\n",
        "    .csv(\"drive/My Drive/Colab Notebooks/payment_data\")\n",
        ")"
      ],
      "metadata": {
        "id": "rmDWtLFiPhdX"
      },
      "execution_count": null,
      "outputs": []
    },
    {
      "cell_type": "code",
      "source": [
        "dest_count = streaming.groupBy(\"nameDest\").count().orderBy(F.desc(\"count\"))"
      ],
      "metadata": {
        "id": "aDbEv-vxRBhz"
      },
      "execution_count": null,
      "outputs": []
    },
    {
      "cell_type": "markdown",
      "source": [
        "Bây giờ chúng ta đã có tranformation, chúng ta cần hướng tới một đầu ra cho các kết quả. Trong trường hợp này, chúng ta sẽ ghi kết quả vào bộ nhớ.\n",
        "\n",
        "Chúng ta cũng cần xác định cách Spark_Streaming sẽ xuất ra dữ liệu đó. Ở đây, chúng ta sẽ sử dụng output hoàn chỉnh (code lại tất cả các luồng cùng với số lượng của chúng sau mỗi lần kích hoạt)."
      ],
      "metadata": {
        "id": "dREmFQWYzjDe"
      }
    },
    {
      "cell_type": "code",
      "source": [
        "activityQuery = (\n",
        "    dest_count.writeStream.queryName(\"dest_counts\")\n",
        "    .format(\"memory\")\n",
        "    .outputMode(\"complete\")\n",
        "    .start()\n",
        ")\n",
        "\n",
        "import time\n",
        "\n",
        "for x in range(50):\n",
        "    _df = spark.sql(\n",
        "        \"SELECT * FROM dest_counts WHERE nameDest != 'nameDest' AND count >= 2\"\n",
        "    )\n",
        "    if _df.count() > 0:\n",
        "        _df.show(10)\n",
        "    time.sleep(0.5)"
      ],
      "metadata": {
        "colab": {
          "base_uri": "https://localhost:8080/"
        },
        "id": "tQ2mUkhJPqAu",
        "outputId": "ad91924e-de82-41ba-d066-048a8e8b5385"
      },
      "execution_count": null,
      "outputs": [
        {
          "output_type": "stream",
          "name": "stdout",
          "text": [
            "+-----------+-----+\n",
            "|   nameDest|count|\n",
            "+-----------+-----+\n",
            "|  C59741756|    4|\n",
            "|C1505584626|    4|\n",
            "| C392045706|    4|\n",
            "|C2051223495|    4|\n",
            "|C1415086760|    4|\n",
            "| C442014622|    4|\n",
            "|C1124405901|    4|\n",
            "| C452438968|    3|\n",
            "|C1182908789|    3|\n",
            "| C972000700|    3|\n",
            "+-----------+-----+\n",
            "only showing top 10 rows\n",
            "\n",
            "+-----------+-----+\n",
            "|   nameDest|count|\n",
            "+-----------+-----+\n",
            "|  C59741756|    4|\n",
            "|C1505584626|    4|\n",
            "| C392045706|    4|\n",
            "|C2051223495|    4|\n",
            "|C1415086760|    4|\n",
            "| C442014622|    4|\n",
            "|C1124405901|    4|\n",
            "| C972000700|    3|\n",
            "| C452438968|    3|\n",
            "|C1182908789|    3|\n",
            "+-----------+-----+\n",
            "only showing top 10 rows\n",
            "\n",
            "+-----------+-----+\n",
            "|   nameDest|count|\n",
            "+-----------+-----+\n",
            "| C225852166|    5|\n",
            "| C957956212|    5|\n",
            "|C1364882847|    5|\n",
            "|C1920581720|    5|\n",
            "| C451765861|    5|\n",
            "| C234654339|    5|\n",
            "|C1930186237|    4|\n",
            "|C2031896350|    4|\n",
            "| C947126193|    4|\n",
            "|C1015650621|    4|\n",
            "+-----------+-----+\n",
            "only showing top 10 rows\n",
            "\n",
            "+-----------+-----+\n",
            "|   nameDest|count|\n",
            "+-----------+-----+\n",
            "| C225852166|    5|\n",
            "| C957956212|    5|\n",
            "|C1364882847|    5|\n",
            "|C1920581720|    5|\n",
            "| C451765861|    5|\n",
            "| C234654339|    5|\n",
            "|C1930186237|    4|\n",
            "|C2031896350|    4|\n",
            "| C947126193|    4|\n",
            "|C1015650621|    4|\n",
            "+-----------+-----+\n",
            "only showing top 10 rows\n",
            "\n",
            "+-----------+-----+\n",
            "|   nameDest|count|\n",
            "+-----------+-----+\n",
            "| C225852166|    5|\n",
            "| C957956212|    5|\n",
            "|C1364882847|    5|\n",
            "|C1920581720|    5|\n",
            "| C451765861|    5|\n",
            "| C234654339|    5|\n",
            "|C1930186237|    4|\n",
            "|C2031896350|    4|\n",
            "| C947126193|    4|\n",
            "|C1015650621|    4|\n",
            "+-----------+-----+\n",
            "only showing top 10 rows\n",
            "\n",
            "+-----------+-----+\n",
            "|   nameDest|count|\n",
            "+-----------+-----+\n",
            "| C225852166|    5|\n",
            "| C957956212|    5|\n",
            "|C1364882847|    5|\n",
            "|C1920581720|    5|\n",
            "| C451765861|    5|\n",
            "| C234654339|    5|\n",
            "|C1930186237|    4|\n",
            "|C2031896350|    4|\n",
            "| C947126193|    4|\n",
            "|C1015650621|    4|\n",
            "+-----------+-----+\n",
            "only showing top 10 rows\n",
            "\n",
            "+-----------+-----+\n",
            "|   nameDest|count|\n",
            "+-----------+-----+\n",
            "|C1368674093|    7|\n",
            "| C680344850|    6|\n",
            "|C1944598988|    6|\n",
            "| C581015888|    6|\n",
            "| C357028200|    6|\n",
            "|C2100550508|    6|\n",
            "|C1797724563|    6|\n",
            "| C240670965|    6|\n",
            "|C1308497108|    6|\n",
            "|C1920581720|    6|\n",
            "+-----------+-----+\n",
            "only showing top 10 rows\n",
            "\n",
            "+-----------+-----+\n",
            "|   nameDest|count|\n",
            "+-----------+-----+\n",
            "| C680344850|    7|\n",
            "|C2049145129|    7|\n",
            "|C1797724563|    7|\n",
            "| C240670965|    7|\n",
            "|C1368674093|    7|\n",
            "|C1386732390|    7|\n",
            "| C947126193|    6|\n",
            "|C1944598988|    6|\n",
            "|C1152780087|    6|\n",
            "| C581015888|    6|\n",
            "+-----------+-----+\n",
            "only showing top 10 rows\n",
            "\n",
            "+-----------+-----+\n",
            "|   nameDest|count|\n",
            "+-----------+-----+\n",
            "| C680344850|    7|\n",
            "|C2049145129|    7|\n",
            "|C1797724563|    7|\n",
            "| C240670965|    7|\n",
            "|C1368674093|    7|\n",
            "|C1386732390|    7|\n",
            "| C947126193|    6|\n",
            "|C1944598988|    6|\n",
            "|C1152780087|    6|\n",
            "| C581015888|    6|\n",
            "+-----------+-----+\n",
            "only showing top 10 rows\n",
            "\n",
            "+-----------+-----+\n",
            "|   nameDest|count|\n",
            "+-----------+-----+\n",
            "| C680344850|    7|\n",
            "|C2049145129|    7|\n",
            "|C1797724563|    7|\n",
            "| C240670965|    7|\n",
            "|C1368674093|    7|\n",
            "|C1386732390|    7|\n",
            "| C947126193|    6|\n",
            "|C1944598988|    6|\n",
            "|C1152780087|    6|\n",
            "| C581015888|    6|\n",
            "+-----------+-----+\n",
            "only showing top 10 rows\n",
            "\n",
            "+-----------+-----+\n",
            "|   nameDest|count|\n",
            "+-----------+-----+\n",
            "| C680344850|    7|\n",
            "|C2049145129|    7|\n",
            "|C1797724563|    7|\n",
            "| C240670965|    7|\n",
            "|C1368674093|    7|\n",
            "|C1386732390|    7|\n",
            "| C947126193|    6|\n",
            "|C1944598988|    6|\n",
            "|C1152780087|    6|\n",
            "| C581015888|    6|\n",
            "+-----------+-----+\n",
            "only showing top 10 rows\n",
            "\n",
            "+-----------+-----+\n",
            "|   nameDest|count|\n",
            "+-----------+-----+\n",
            "| C680344850|    7|\n",
            "|C2049145129|    7|\n",
            "|C1797724563|    7|\n",
            "| C240670965|    7|\n",
            "|C1368674093|    7|\n",
            "|C1386732390|    7|\n",
            "| C947126193|    6|\n",
            "|C1944598988|    6|\n",
            "|C1152780087|    6|\n",
            "| C581015888|    6|\n",
            "+-----------+-----+\n",
            "only showing top 10 rows\n",
            "\n",
            "+-----------+-----+\n",
            "|   nameDest|count|\n",
            "+-----------+-----+\n",
            "| C680344850|    7|\n",
            "|C2049145129|    7|\n",
            "|C1797724563|    7|\n",
            "| C240670965|    7|\n",
            "|C1368674093|    7|\n",
            "|C1386732390|    7|\n",
            "| C947126193|    6|\n",
            "|C1192879985|    6|\n",
            "|C1944598988|    6|\n",
            "|C1152780087|    6|\n",
            "+-----------+-----+\n",
            "only showing top 10 rows\n",
            "\n",
            "+-----------+-----+\n",
            "|   nameDest|count|\n",
            "+-----------+-----+\n",
            "| C680344850|    7|\n",
            "|C2049145129|    7|\n",
            "|C1797724563|    7|\n",
            "| C240670965|    7|\n",
            "|C1368674093|    7|\n",
            "|C1386732390|    7|\n",
            "| C947126193|    6|\n",
            "|C1192879985|    6|\n",
            "|C1944598988|    6|\n",
            "|C1152780087|    6|\n",
            "+-----------+-----+\n",
            "only showing top 10 rows\n",
            "\n",
            "+-----------+-----+\n",
            "|   nameDest|count|\n",
            "+-----------+-----+\n",
            "| C680344850|    7|\n",
            "|C2049145129|    7|\n",
            "|C1797724563|    7|\n",
            "| C240670965|    7|\n",
            "|C1368674093|    7|\n",
            "|C1386732390|    7|\n",
            "| C947126193|    6|\n",
            "|C1192879985|    6|\n",
            "|C1944598988|    6|\n",
            "|C1152780087|    6|\n",
            "+-----------+-----+\n",
            "only showing top 10 rows\n",
            "\n",
            "+-----------+-----+\n",
            "|   nameDest|count|\n",
            "+-----------+-----+\n",
            "| C680344850|    7|\n",
            "|C2049145129|    7|\n",
            "|C1797724563|    7|\n",
            "| C240670965|    7|\n",
            "|C1368674093|    7|\n",
            "|C1386732390|    7|\n",
            "| C947126193|    6|\n",
            "|C1192879985|    6|\n",
            "|C1944598988|    6|\n",
            "|C1152780087|    6|\n",
            "+-----------+-----+\n",
            "only showing top 10 rows\n",
            "\n",
            "+-----------+-----+\n",
            "|   nameDest|count|\n",
            "+-----------+-----+\n",
            "| C680344850|    8|\n",
            "|C1503324581|    8|\n",
            "|C1564563942|    7|\n",
            "|C1843684228|    7|\n",
            "| C947126193|    7|\n",
            "|C1944598988|    7|\n",
            "|C1367172375|    7|\n",
            "|C2049145129|    7|\n",
            "| C820234826|    7|\n",
            "| C357028200|    7|\n",
            "+-----------+-----+\n",
            "only showing top 10 rows\n",
            "\n",
            "+-----------+-----+\n",
            "|   nameDest|count|\n",
            "+-----------+-----+\n",
            "| C680344850|    8|\n",
            "| C972333343|    8|\n",
            "|  C40195890|    8|\n",
            "|C1710170960|    8|\n",
            "|C1503324581|    8|\n",
            "| C850125606|    7|\n",
            "|C1564563942|    7|\n",
            "|C1843684228|    7|\n",
            "| C358570923|    7|\n",
            "| C947126193|    7|\n",
            "+-----------+-----+\n",
            "only showing top 10 rows\n",
            "\n",
            "+-----------+-----+\n",
            "|   nameDest|count|\n",
            "+-----------+-----+\n",
            "|C1503324581|   12|\n",
            "| C680344850|   11|\n",
            "|C1854275891|   11|\n",
            "| C499714286|   11|\n",
            "|C1139127799|   11|\n",
            "|C1677262317|   11|\n",
            "|C2067466390|   11|\n",
            "| C779978956|   11|\n",
            "| C358570923|   10|\n",
            "| C225852166|   10|\n",
            "+-----------+-----+\n",
            "only showing top 10 rows\n",
            "\n",
            "+-----------+-----+\n",
            "|   nameDest|count|\n",
            "+-----------+-----+\n",
            "|C1503324581|   12|\n",
            "| C680344850|   11|\n",
            "|C1854275891|   11|\n",
            "| C499714286|   11|\n",
            "|C1139127799|   11|\n",
            "|C1677262317|   11|\n",
            "|C2067466390|   11|\n",
            "| C779978956|   11|\n",
            "| C358570923|   10|\n",
            "| C225852166|   10|\n",
            "+-----------+-----+\n",
            "only showing top 10 rows\n",
            "\n",
            "+-----------+-----+\n",
            "|   nameDest|count|\n",
            "+-----------+-----+\n",
            "|C1139127799|   12|\n",
            "|C1503324581|   12|\n",
            "| C680344850|   11|\n",
            "|C1854275891|   11|\n",
            "| C499714286|   11|\n",
            "|C1320217924|   11|\n",
            "| C605440398|   11|\n",
            "|C1677262317|   11|\n",
            "|C2067466390|   11|\n",
            "|C1774146551|   11|\n",
            "+-----------+-----+\n",
            "only showing top 10 rows\n",
            "\n",
            "+-----------+-----+\n",
            "|   nameDest|count|\n",
            "+-----------+-----+\n",
            "|C1139127799|   12|\n",
            "|C1503324581|   12|\n",
            "| C680344850|   11|\n",
            "|C1854275891|   11|\n",
            "| C499714286|   11|\n",
            "|C1320217924|   11|\n",
            "| C605440398|   11|\n",
            "|C1677262317|   11|\n",
            "|C2067466390|   11|\n",
            "|C1774146551|   11|\n",
            "+-----------+-----+\n",
            "only showing top 10 rows\n",
            "\n",
            "+-----------+-----+\n",
            "|   nameDest|count|\n",
            "+-----------+-----+\n",
            "|C1139127799|   12|\n",
            "|C1503324581|   12|\n",
            "| C680344850|   11|\n",
            "|C1854275891|   11|\n",
            "| C499714286|   11|\n",
            "|C1320217924|   11|\n",
            "| C605440398|   11|\n",
            "|C1677262317|   11|\n",
            "|C2067466390|   11|\n",
            "|C1774146551|   11|\n",
            "+-----------+-----+\n",
            "only showing top 10 rows\n",
            "\n",
            "+-----------+-----+\n",
            "|   nameDest|count|\n",
            "+-----------+-----+\n",
            "|C1139127799|   12|\n",
            "|C1503324581|   12|\n",
            "| C680344850|   11|\n",
            "|C1854275891|   11|\n",
            "| C499714286|   11|\n",
            "|C1320217924|   11|\n",
            "| C605440398|   11|\n",
            "|C1677262317|   11|\n",
            "|C2067466390|   11|\n",
            "|C1774146551|   11|\n",
            "+-----------+-----+\n",
            "only showing top 10 rows\n",
            "\n",
            "+-----------+-----+\n",
            "|   nameDest|count|\n",
            "+-----------+-----+\n",
            "|C1139127799|   12|\n",
            "|C1677262317|   12|\n",
            "|C2067466390|   12|\n",
            "| C779978956|   12|\n",
            "|C1116137715|   12|\n",
            "|C1503324581|   12|\n",
            "| C680344850|   11|\n",
            "|C1854275891|   11|\n",
            "|C1428173325|   11|\n",
            "| C499714286|   11|\n",
            "+-----------+-----+\n",
            "only showing top 10 rows\n",
            "\n",
            "+-----------+-----+\n",
            "|   nameDest|count|\n",
            "+-----------+-----+\n",
            "|C1139127799|   12|\n",
            "|C1677262317|   12|\n",
            "|C2067466390|   12|\n",
            "| C779978956|   12|\n",
            "|C1116137715|   12|\n",
            "|C1503324581|   12|\n",
            "| C680344850|   11|\n",
            "|C1854275891|   11|\n",
            "|C1428173325|   11|\n",
            "| C499714286|   11|\n",
            "+-----------+-----+\n",
            "only showing top 10 rows\n",
            "\n",
            "+-----------+-----+\n",
            "|   nameDest|count|\n",
            "+-----------+-----+\n",
            "|C1139127799|   13|\n",
            "|C1677262317|   12|\n",
            "|C2067466390|   12|\n",
            "|C1774146551|   12|\n",
            "| C779978956|   12|\n",
            "|C1116137715|   12|\n",
            "|C1503324581|   12|\n",
            "| C680344850|   11|\n",
            "|C1854275891|   11|\n",
            "|C1428173325|   11|\n",
            "+-----------+-----+\n",
            "only showing top 10 rows\n",
            "\n",
            "+-----------+-----+\n",
            "|   nameDest|count|\n",
            "+-----------+-----+\n",
            "|C1139127799|   13|\n",
            "|C1774146551|   13|\n",
            "|C1503324581|   13|\n",
            "|C1428173325|   12|\n",
            "|C1097476560|   12|\n",
            "|C1638556416|   12|\n",
            "|C1677262317|   12|\n",
            "|C2067466390|   12|\n",
            "| C423580937|   12|\n",
            "| C779978956|   12|\n",
            "+-----------+-----+\n",
            "only showing top 10 rows\n",
            "\n",
            "+-----------+-----+\n",
            "|   nameDest|count|\n",
            "+-----------+-----+\n",
            "|C1139127799|   14|\n",
            "| C682330828|   13|\n",
            "|C1774146551|   13|\n",
            "|C1503324581|   13|\n",
            "|C1202306289|   12|\n",
            "|C1428173325|   12|\n",
            "|C1097476560|   12|\n",
            "| C656400047|   12|\n",
            "|C1320217924|   12|\n",
            "|C1638556416|   12|\n",
            "+-----------+-----+\n",
            "only showing top 10 rows\n",
            "\n",
            "+-----------+-----+\n",
            "|   nameDest|count|\n",
            "+-----------+-----+\n",
            "|C1139127799|   14|\n",
            "| C682330828|   13|\n",
            "|C1774146551|   13|\n",
            "|C1503324581|   13|\n",
            "|C1202306289|   12|\n",
            "|C1428173325|   12|\n",
            "|C1097476560|   12|\n",
            "| C656400047|   12|\n",
            "|C1320217924|   12|\n",
            "|C1638556416|   12|\n",
            "+-----------+-----+\n",
            "only showing top 10 rows\n",
            "\n",
            "+-----------+-----+\n",
            "|   nameDest|count|\n",
            "+-----------+-----+\n",
            "|C1590550415|   35|\n",
            "| C985934102|   34|\n",
            "| C564160838|   31|\n",
            "| C665576141|   28|\n",
            "|C2083562754|   28|\n",
            "|  C33524623|   26|\n",
            "| C998351292|   24|\n",
            "| C401424608|   23|\n",
            "|C1286084959|   23|\n",
            "|C1789550256|   23|\n",
            "+-----------+-----+\n",
            "only showing top 10 rows\n",
            "\n",
            "+-----------+-----+\n",
            "|   nameDest|count|\n",
            "+-----------+-----+\n",
            "|C1590550415|   35|\n",
            "| C985934102|   34|\n",
            "| C564160838|   31|\n",
            "| C665576141|   28|\n",
            "|C2083562754|   28|\n",
            "|  C33524623|   26|\n",
            "| C998351292|   24|\n",
            "| C401424608|   23|\n",
            "|C1286084959|   23|\n",
            "|C1789550256|   23|\n",
            "+-----------+-----+\n",
            "only showing top 10 rows\n",
            "\n",
            "+-----------+-----+\n",
            "|   nameDest|count|\n",
            "+-----------+-----+\n",
            "| C985934102|   37|\n",
            "|C1590550415|   36|\n",
            "| C564160838|   31|\n",
            "|C2083562754|   30|\n",
            "| C665576141|   29|\n",
            "|C1789550256|   27|\n",
            "| C998351292|   27|\n",
            "|  C33524623|   26|\n",
            "|C1234776885|   24|\n",
            "| C401424608|   23|\n",
            "+-----------+-----+\n",
            "only showing top 10 rows\n",
            "\n",
            "+-----------+-----+\n",
            "|   nameDest|count|\n",
            "+-----------+-----+\n",
            "| C985934102|   37|\n",
            "|C1590550415|   36|\n",
            "| C564160838|   31|\n",
            "|C2083562754|   30|\n",
            "| C665576141|   29|\n",
            "|C1789550256|   27|\n",
            "| C998351292|   27|\n",
            "|  C33524623|   26|\n",
            "|C1234776885|   24|\n",
            "| C401424608|   23|\n",
            "+-----------+-----+\n",
            "only showing top 10 rows\n",
            "\n",
            "+-----------+-----+\n",
            "|   nameDest|count|\n",
            "+-----------+-----+\n",
            "| C985934102|   37|\n",
            "|C1590550415|   36|\n",
            "| C665576141|   31|\n",
            "| C564160838|   31|\n",
            "|C2083562754|   30|\n",
            "| C998351292|   28|\n",
            "|  C33524623|   27|\n",
            "|C1789550256|   27|\n",
            "| C557041912|   25|\n",
            "| C932583850|   25|\n",
            "+-----------+-----+\n",
            "only showing top 10 rows\n",
            "\n",
            "+-----------+-----+\n",
            "|   nameDest|count|\n",
            "+-----------+-----+\n",
            "| C985934102|   47|\n",
            "|C1590550415|   45|\n",
            "| C665576141|   37|\n",
            "|C2083562754|   34|\n",
            "|C1360767589|   32|\n",
            "|C1789550256|   32|\n",
            "| C564160838|   31|\n",
            "| C932583850|   30|\n",
            "| C451111351|   29|\n",
            "|  C33524623|   28|\n",
            "+-----------+-----+\n",
            "only showing top 10 rows\n",
            "\n",
            "+-----------+-----+\n",
            "|   nameDest|count|\n",
            "+-----------+-----+\n",
            "| C985934102|   47|\n",
            "|C1590550415|   45|\n",
            "| C665576141|   37|\n",
            "|C2083562754|   34|\n",
            "|C1360767589|   32|\n",
            "|C1789550256|   32|\n",
            "| C564160838|   31|\n",
            "| C932583850|   30|\n",
            "| C451111351|   29|\n",
            "|  C33524623|   28|\n",
            "+-----------+-----+\n",
            "only showing top 10 rows\n",
            "\n"
          ]
        }
      ]
    },
    {
      "cell_type": "code",
      "source": [
        "spark.streams.active[0].isActive"
      ],
      "metadata": {
        "colab": {
          "base_uri": "https://localhost:8080/"
        },
        "id": "gAN2woXvRU51",
        "outputId": "143275c4-c984-408e-f04a-b64a2a8db59f"
      },
      "execution_count": null,
      "outputs": [
        {
          "output_type": "execute_result",
          "data": {
            "text/plain": [
              "True"
            ]
          },
          "metadata": {},
          "execution_count": 27
        }
      ]
    },
    {
      "cell_type": "code",
      "source": [
        "activityQuery.status"
      ],
      "metadata": {
        "colab": {
          "base_uri": "https://localhost:8080/"
        },
        "id": "Hr4XecUMRXBg",
        "outputId": "ee7f0881-33ac-4789-eb13-c485eda68d4a"
      },
      "execution_count": null,
      "outputs": [
        {
          "output_type": "execute_result",
          "data": {
            "text/plain": [
              "{'isDataAvailable': True,\n",
              " 'isTriggerActive': True,\n",
              " 'message': 'Processing new data'}"
            ]
          },
          "metadata": {},
          "execution_count": 28
        }
      ]
    },
    {
      "cell_type": "code",
      "source": [
        "activityQuery.stop()"
      ],
      "metadata": {
        "id": "7Sp7lvMIRYTp"
      },
      "execution_count": null,
      "outputs": []
    }
  ]
}